{
 "cells": [
  {
   "cell_type": "markdown",
   "metadata": {
    "collapsed": true,
    "pycharm": {
     "name": "#%% md\n"
    }
   },
   "source": [
    "# Magane csv"
   ]
  },
  {
   "cell_type": "code",
   "execution_count": 1,
   "outputs": [],
   "source": [
    "import pandas as pd"
   ],
   "metadata": {
    "collapsed": false,
    "pycharm": {
     "name": "#%%\n"
    }
   }
  },
  {
   "cell_type": "markdown",
   "source": [
    "### manage video"
   ],
   "metadata": {
    "collapsed": false
   }
  },
  {
   "cell_type": "code",
   "execution_count": 2,
   "outputs": [
    {
     "name": "stderr",
     "output_type": "stream",
     "text": [
      "C:\\Users\\39320\\AppData\\Local\\Temp\\ipykernel_12096\\2242610146.py:1: FutureWarning: The error_bad_lines argument has been deprecated and will be removed in a future version. Use on_bad_lines in the future.\n",
      "\n",
      "\n",
      "  data_video = pd.read_csv('./trending_youtube_video_statistics_and_comments/USvideos.csv', error_bad_lines=False)\n",
      "b'Skipping line 2401: expected 11 fields, saw 21\\nSkipping line 2800: expected 11 fields, saw 21\\nSkipping line 5297: expected 11 fields, saw 12\\nSkipping line 5299: expected 11 fields, saw 12\\nSkipping line 5300: expected 11 fields, saw 12\\nSkipping line 5301: expected 11 fields, saw 12\\n'\n"
     ]
    }
   ],
   "source": [
    "data_video = pd.read_csv('./trending_youtube_video_statistics_and_comments/USvideos.csv', error_bad_lines=False)"
   ],
   "metadata": {
    "collapsed": false,
    "pycharm": {
     "name": "#%%\n"
    }
   }
  },
  {
   "cell_type": "code",
   "execution_count": 3,
   "outputs": [
    {
     "data": {
      "text/plain": "Index(['video_id', 'title', 'channel_title', 'category_id', 'tags', 'views',\n       'likes', 'dislikes', 'comment_total', 'thumbnail_link', 'date'],\n      dtype='object')"
     },
     "execution_count": 3,
     "metadata": {},
     "output_type": "execute_result"
    }
   ],
   "source": [
    "data_video.columns"
   ],
   "metadata": {
    "collapsed": false,
    "pycharm": {
     "name": "#%%\n"
    }
   }
  },
  {
   "cell_type": "code",
   "execution_count": 4,
   "outputs": [],
   "source": [
    "#data_video.to_json('./trending_youtube_video_statistics_and_comments/USvideos.json')"
   ],
   "metadata": {
    "collapsed": false,
    "pycharm": {
     "name": "#%%\n"
    }
   }
  },
  {
   "cell_type": "markdown",
   "source": [
    "### manage comments"
   ],
   "metadata": {
    "collapsed": false,
    "pycharm": {
     "name": "#%% md\n"
    }
   }
  },
  {
   "cell_type": "code",
   "execution_count": 5,
   "outputs": [
    {
     "name": "stderr",
     "output_type": "stream",
     "text": [
      "C:\\Users\\39320\\AppData\\Local\\Temp\\ipykernel_12096\\3097297729.py:1: FutureWarning: The error_bad_lines argument has been deprecated and will be removed in a future version. Use on_bad_lines in the future.\n",
      "\n",
      "\n",
      "  data_comments = pd.read_csv('./trending_youtube_video_statistics_and_comments/UScomments.csv', error_bad_lines=False)\n",
      "b'Skipping line 41589: expected 4 fields, saw 11\\nSkipping line 51628: expected 4 fields, saw 7\\nSkipping line 114465: expected 4 fields, saw 5\\n'\n",
      "b'Skipping line 142496: expected 4 fields, saw 8\\nSkipping line 189732: expected 4 fields, saw 6\\nSkipping line 245218: expected 4 fields, saw 7\\n'\n",
      "b'Skipping line 388430: expected 4 fields, saw 5\\n'\n",
      "C:\\Users\\39320\\AppData\\Local\\Temp\\ipykernel_12096\\3097297729.py:1: DtypeWarning: Columns (2,3) have mixed types. Specify dtype option on import or set low_memory=False.\n",
      "  data_comments = pd.read_csv('./trending_youtube_video_statistics_and_comments/UScomments.csv', error_bad_lines=False)\n"
     ]
    }
   ],
   "source": [
    "data_comments = pd.read_csv('./trending_youtube_video_statistics_and_comments/UScomments.csv', error_bad_lines=False)"
   ],
   "metadata": {
    "collapsed": false,
    "pycharm": {
     "name": "#%%\n"
    }
   }
  },
  {
   "cell_type": "code",
   "execution_count": 6,
   "outputs": [
    {
     "data": {
      "text/plain": "Index(['video_id', 'comment_text', 'likes', 'replies'], dtype='object')"
     },
     "execution_count": 6,
     "metadata": {},
     "output_type": "execute_result"
    }
   ],
   "source": [
    "data_comments.columns"
   ],
   "metadata": {
    "collapsed": false,
    "pycharm": {
     "name": "#%%\n"
    }
   }
  },
  {
   "cell_type": "code",
   "execution_count": 7,
   "outputs": [],
   "source": [
    "data_comments = data_comments.drop('replies', axis=1)"
   ],
   "metadata": {
    "collapsed": false,
    "pycharm": {
     "name": "#%%\n"
    }
   }
  },
  {
   "cell_type": "code",
   "execution_count": 8,
   "outputs": [
    {
     "data": {
      "text/plain": "Index(['video_id', 'comment_text', 'likes'], dtype='object')"
     },
     "execution_count": 8,
     "metadata": {},
     "output_type": "execute_result"
    }
   ],
   "source": [
    "data_comments.columns"
   ],
   "metadata": {
    "collapsed": false,
    "pycharm": {
     "name": "#%%\n"
    }
   }
  },
  {
   "cell_type": "code",
   "execution_count": 9,
   "outputs": [],
   "source": [
    "#data_comments.to_json('./trending_youtube_video_statistics_and_comments/UScomments.json')"
   ],
   "metadata": {
    "collapsed": false,
    "pycharm": {
     "name": "#%%\n"
    }
   }
  },
  {
   "cell_type": "markdown",
   "source": [
    "# create collection for tags"
   ],
   "metadata": {
    "collapsed": false,
    "pycharm": {
     "name": "#%% md\n"
    }
   }
  },
  {
   "cell_type": "code",
   "execution_count": 32,
   "outputs": [],
   "source": [
    "row = data_video.loc[[0]]"
   ],
   "metadata": {
    "collapsed": false,
    "pycharm": {
     "name": "#%%\n"
    }
   }
  },
  {
   "cell_type": "code",
   "execution_count": 33,
   "outputs": [
    {
     "data": {
      "text/plain": "      video_id                                              title  \\\n0  XpVt6Z1Gjjo  1 YEAR OF VLOGGING -- HOW LOGAN PAUL CHANGED Y...   \n\n      channel_title  category_id  \\\n0  Logan Paul Vlogs           24   \n\n                                                tags    views   likes  \\\n0  logan paul vlog|logan paul|logan|paul|olympics...  4394029  320053   \n\n   dislikes  comment_total                                  thumbnail_link  \\\n0      5931          46245  https://i.ytimg.com/vi/XpVt6Z1Gjjo/default.jpg   \n\n    date  \n0  13.09  ",
      "text/html": "<div>\n<style scoped>\n    .dataframe tbody tr th:only-of-type {\n        vertical-align: middle;\n    }\n\n    .dataframe tbody tr th {\n        vertical-align: top;\n    }\n\n    .dataframe thead th {\n        text-align: right;\n    }\n</style>\n<table border=\"1\" class=\"dataframe\">\n  <thead>\n    <tr style=\"text-align: right;\">\n      <th></th>\n      <th>video_id</th>\n      <th>title</th>\n      <th>channel_title</th>\n      <th>category_id</th>\n      <th>tags</th>\n      <th>views</th>\n      <th>likes</th>\n      <th>dislikes</th>\n      <th>comment_total</th>\n      <th>thumbnail_link</th>\n      <th>date</th>\n    </tr>\n  </thead>\n  <tbody>\n    <tr>\n      <th>0</th>\n      <td>XpVt6Z1Gjjo</td>\n      <td>1 YEAR OF VLOGGING -- HOW LOGAN PAUL CHANGED Y...</td>\n      <td>Logan Paul Vlogs</td>\n      <td>24</td>\n      <td>logan paul vlog|logan paul|logan|paul|olympics...</td>\n      <td>4394029</td>\n      <td>320053</td>\n      <td>5931</td>\n      <td>46245</td>\n      <td>https://i.ytimg.com/vi/XpVt6Z1Gjjo/default.jpg</td>\n      <td>13.09</td>\n    </tr>\n  </tbody>\n</table>\n</div>"
     },
     "execution_count": 33,
     "metadata": {},
     "output_type": "execute_result"
    }
   ],
   "source": [
    "row"
   ],
   "metadata": {
    "collapsed": false,
    "pycharm": {
     "name": "#%%\n"
    }
   }
  },
  {
   "cell_type": "code",
   "execution_count": 34,
   "outputs": [],
   "source": [
    "row.drop(['category_id', 'views', 'likes', 'dislikes', 'comment_total', 'thumbnail_link', 'date'], inplace=True, axis=1)"
   ],
   "metadata": {
    "collapsed": false,
    "pycharm": {
     "name": "#%%\n"
    }
   }
  },
  {
   "cell_type": "code",
   "execution_count": 35,
   "outputs": [
    {
     "data": {
      "text/plain": "      video_id                                              title  \\\n0  XpVt6Z1Gjjo  1 YEAR OF VLOGGING -- HOW LOGAN PAUL CHANGED Y...   \n\n      channel_title                                               tags  \n0  Logan Paul Vlogs  logan paul vlog|logan paul|logan|paul|olympics...  ",
      "text/html": "<div>\n<style scoped>\n    .dataframe tbody tr th:only-of-type {\n        vertical-align: middle;\n    }\n\n    .dataframe tbody tr th {\n        vertical-align: top;\n    }\n\n    .dataframe thead th {\n        text-align: right;\n    }\n</style>\n<table border=\"1\" class=\"dataframe\">\n  <thead>\n    <tr style=\"text-align: right;\">\n      <th></th>\n      <th>video_id</th>\n      <th>title</th>\n      <th>channel_title</th>\n      <th>tags</th>\n    </tr>\n  </thead>\n  <tbody>\n    <tr>\n      <th>0</th>\n      <td>XpVt6Z1Gjjo</td>\n      <td>1 YEAR OF VLOGGING -- HOW LOGAN PAUL CHANGED Y...</td>\n      <td>Logan Paul Vlogs</td>\n      <td>logan paul vlog|logan paul|logan|paul|olympics...</td>\n    </tr>\n  </tbody>\n</table>\n</div>"
     },
     "execution_count": 35,
     "metadata": {},
     "output_type": "execute_result"
    }
   ],
   "source": [
    "row"
   ],
   "metadata": {
    "collapsed": false,
    "pycharm": {
     "name": "#%%\n"
    }
   }
  },
  {
   "cell_type": "code",
   "execution_count": 36,
   "outputs": [
    {
     "data": {
      "text/plain": "pandas.core.frame.DataFrame"
     },
     "execution_count": 36,
     "metadata": {},
     "output_type": "execute_result"
    }
   ],
   "source": [
    "type(row)"
   ],
   "metadata": {
    "collapsed": false,
    "pycharm": {
     "name": "#%%\n"
    }
   }
  },
  {
   "cell_type": "code",
   "execution_count": 42,
   "outputs": [],
   "source": [
    "row['tags'] = row['tags'].str.split('|')"
   ],
   "metadata": {
    "collapsed": false,
    "pycharm": {
     "name": "#%%\n"
    }
   }
  },
  {
   "cell_type": "code",
   "execution_count": 47,
   "outputs": [
    {
     "data": {
      "text/plain": "'logan paul'"
     },
     "execution_count": 47,
     "metadata": {},
     "output_type": "execute_result"
    }
   ],
   "source": [
    "row['tags'][0][1]"
   ],
   "metadata": {
    "collapsed": false,
    "pycharm": {
     "name": "#%%\n"
    }
   }
  },
  {
   "cell_type": "code",
   "execution_count": 126,
   "outputs": [],
   "source": [
    "d = {}"
   ],
   "metadata": {
    "collapsed": false,
    "pycharm": {
     "name": "#%%\n"
    }
   }
  },
  {
   "cell_type": "code",
   "execution_count": 127,
   "outputs": [],
   "source": [
    "for t in row['tags'][0]:\n",
    "    if t in d:\n",
    "        d[t].append(list(row[['video_id', 'title', 'channel_title']].iloc[0]))\n",
    "    else:\n",
    "        d.update({t: list(row[['video_id', 'title', 'channel_title']].iloc[0])})"
   ],
   "metadata": {
    "collapsed": false,
    "pycharm": {
     "name": "#%%\n"
    }
   }
  },
  {
   "cell_type": "code",
   "execution_count": 131,
   "outputs": [
    {
     "data": {
      "text/plain": "{'logan paul vlog': ['XpVt6Z1Gjjo',\n  '1 YEAR OF VLOGGING -- HOW LOGAN PAUL CHANGED YOUTUBE FOREVER!',\n  'Logan Paul Vlogs'],\n 'logan paul': ['XpVt6Z1Gjjo',\n  '1 YEAR OF VLOGGING -- HOW LOGAN PAUL CHANGED YOUTUBE FOREVER!',\n  'Logan Paul Vlogs'],\n 'logan': ['XpVt6Z1Gjjo',\n  '1 YEAR OF VLOGGING -- HOW LOGAN PAUL CHANGED YOUTUBE FOREVER!',\n  'Logan Paul Vlogs'],\n 'paul': ['XpVt6Z1Gjjo',\n  '1 YEAR OF VLOGGING -- HOW LOGAN PAUL CHANGED YOUTUBE FOREVER!',\n  'Logan Paul Vlogs'],\n 'olympics': ['XpVt6Z1Gjjo',\n  '1 YEAR OF VLOGGING -- HOW LOGAN PAUL CHANGED YOUTUBE FOREVER!',\n  'Logan Paul Vlogs'],\n 'logan paul youtube': ['XpVt6Z1Gjjo',\n  '1 YEAR OF VLOGGING -- HOW LOGAN PAUL CHANGED YOUTUBE FOREVER!',\n  'Logan Paul Vlogs'],\n 'vlog': ['XpVt6Z1Gjjo',\n  '1 YEAR OF VLOGGING -- HOW LOGAN PAUL CHANGED YOUTUBE FOREVER!',\n  'Logan Paul Vlogs'],\n 'daily': ['XpVt6Z1Gjjo',\n  '1 YEAR OF VLOGGING -- HOW LOGAN PAUL CHANGED YOUTUBE FOREVER!',\n  'Logan Paul Vlogs'],\n 'comedy': ['XpVt6Z1Gjjo',\n  '1 YEAR OF VLOGGING -- HOW LOGAN PAUL CHANGED YOUTUBE FOREVER!',\n  'Logan Paul Vlogs'],\n 'hollywood': ['XpVt6Z1Gjjo',\n  '1 YEAR OF VLOGGING -- HOW LOGAN PAUL CHANGED YOUTUBE FOREVER!',\n  'Logan Paul Vlogs'],\n 'parrot': ['XpVt6Z1Gjjo',\n  '1 YEAR OF VLOGGING -- HOW LOGAN PAUL CHANGED YOUTUBE FOREVER!',\n  'Logan Paul Vlogs'],\n 'maverick': ['XpVt6Z1Gjjo',\n  '1 YEAR OF VLOGGING -- HOW LOGAN PAUL CHANGED YOUTUBE FOREVER!',\n  'Logan Paul Vlogs'],\n 'bird': ['XpVt6Z1Gjjo',\n  '1 YEAR OF VLOGGING -- HOW LOGAN PAUL CHANGED YOUTUBE FOREVER!',\n  'Logan Paul Vlogs'],\n 'maverick clothes': ['XpVt6Z1Gjjo',\n  '1 YEAR OF VLOGGING -- HOW LOGAN PAUL CHANGED YOUTUBE FOREVER!',\n  'Logan Paul Vlogs'],\n 'diamond play button': ['XpVt6Z1Gjjo',\n  '1 YEAR OF VLOGGING -- HOW LOGAN PAUL CHANGED YOUTUBE FOREVER!',\n  'Logan Paul Vlogs'],\n 'logan paul diamond play button': ['XpVt6Z1Gjjo',\n  '1 YEAR OF VLOGGING -- HOW LOGAN PAUL CHANGED YOUTUBE FOREVER!',\n  'Logan Paul Vlogs'],\n '10M subscribers': ['XpVt6Z1Gjjo',\n  '1 YEAR OF VLOGGING -- HOW LOGAN PAUL CHANGED YOUTUBE FOREVER!',\n  'Logan Paul Vlogs'],\n 'logan paul 1 year vlogging': ['XpVt6Z1Gjjo',\n  '1 YEAR OF VLOGGING -- HOW LOGAN PAUL CHANGED YOUTUBE FOREVER!',\n  'Logan Paul Vlogs'],\n '1 year vlog': ['XpVt6Z1Gjjo',\n  '1 YEAR OF VLOGGING -- HOW LOGAN PAUL CHANGED YOUTUBE FOREVER!',\n  'Logan Paul Vlogs'],\n 'dwarf mamba play button': ['XpVt6Z1Gjjo',\n  '1 YEAR OF VLOGGING -- HOW LOGAN PAUL CHANGED YOUTUBE FOREVER!',\n  'Logan Paul Vlogs'],\n 'logan paul history': ['XpVt6Z1Gjjo',\n  '1 YEAR OF VLOGGING -- HOW LOGAN PAUL CHANGED YOUTUBE FOREVER!',\n  'Logan Paul Vlogs'],\n 'youtube history': ['XpVt6Z1Gjjo',\n  '1 YEAR OF VLOGGING -- HOW LOGAN PAUL CHANGED YOUTUBE FOREVER!',\n  'Logan Paul Vlogs'],\n '10M': ['XpVt6Z1Gjjo',\n  '1 YEAR OF VLOGGING -- HOW LOGAN PAUL CHANGED YOUTUBE FOREVER!',\n  'Logan Paul Vlogs'],\n '10M plaque': ['XpVt6Z1Gjjo',\n  '1 YEAR OF VLOGGING -- HOW LOGAN PAUL CHANGED YOUTUBE FOREVER!',\n  'Logan Paul Vlogs'],\n 'youtube button': ['XpVt6Z1Gjjo',\n  '1 YEAR OF VLOGGING -- HOW LOGAN PAUL CHANGED YOUTUBE FOREVER!',\n  'Logan Paul Vlogs'],\n 'diamond button': ['XpVt6Z1Gjjo',\n  '1 YEAR OF VLOGGING -- HOW LOGAN PAUL CHANGED YOUTUBE FOREVER!',\n  'Logan Paul Vlogs'],\n 'logang': ['XpVt6Z1Gjjo',\n  '1 YEAR OF VLOGGING -- HOW LOGAN PAUL CHANGED YOUTUBE FOREVER!',\n  'Logan Paul Vlogs'],\n 'logang 4 life': ['XpVt6Z1Gjjo',\n  '1 YEAR OF VLOGGING -- HOW LOGAN PAUL CHANGED YOUTUBE FOREVER!',\n  'Logan Paul Vlogs']}"
     },
     "execution_count": 131,
     "metadata": {},
     "output_type": "execute_result"
    }
   ],
   "source": [
    "d"
   ],
   "metadata": {
    "collapsed": false,
    "pycharm": {
     "name": "#%%\n"
    }
   }
  },
  {
   "cell_type": "code",
   "execution_count": 81,
   "outputs": [],
   "source": [],
   "metadata": {
    "collapsed": false,
    "pycharm": {
     "name": "#%%\n"
    }
   }
  },
  {
   "cell_type": "markdown",
   "source": [
    "# create collection for comments"
   ],
   "metadata": {
    "collapsed": false,
    "pycharm": {
     "name": "#%% md\n"
    }
   }
  },
  {
   "cell_type": "code",
   "execution_count": 132,
   "outputs": [
    {
     "name": "stdout",
     "output_type": "stream",
     "text": [
      "<class 'pandas.core.frame.DataFrame'>\n",
      "RangeIndex: 691400 entries, 0 to 691399\n",
      "Data columns (total 3 columns):\n",
      " #   Column        Non-Null Count   Dtype \n",
      "---  ------        --------------   ----- \n",
      " 0   video_id      691400 non-null  object\n",
      " 1   comment_text  691375 non-null  object\n",
      " 2   likes         691400 non-null  object\n",
      "dtypes: object(3)\n",
      "memory usage: 15.8+ MB\n"
     ]
    }
   ],
   "source": [
    "data_comments.info()"
   ],
   "metadata": {
    "collapsed": false,
    "pycharm": {
     "name": "#%%\n"
    }
   }
  },
  {
   "cell_type": "markdown",
   "source": [
    "is already ok"
   ],
   "metadata": {
    "collapsed": false,
    "pycharm": {
     "name": "#%% md\n"
    }
   }
  },
  {
   "cell_type": "markdown",
   "source": [
    "# create collection for videos"
   ],
   "metadata": {
    "collapsed": false,
    "pycharm": {
     "name": "#%% md\n"
    }
   }
  },
  {
   "cell_type": "code",
   "execution_count": 146,
   "outputs": [],
   "source": [
    "data = data_video.loc[[0]]"
   ],
   "metadata": {
    "collapsed": false,
    "pycharm": {
     "name": "#%%\n"
    }
   }
  },
  {
   "cell_type": "code",
   "execution_count": 147,
   "outputs": [
    {
     "data": {
      "text/plain": "      video_id                                              title  \\\n0  XpVt6Z1Gjjo  1 YEAR OF VLOGGING -- HOW LOGAN PAUL CHANGED Y...   \n\n      channel_title  category_id  \\\n0  Logan Paul Vlogs           24   \n\n                                                tags    views   likes  \\\n0  logan paul vlog|logan paul|logan|paul|olympics...  4394029  320053   \n\n   dislikes  comment_total                                  thumbnail_link  \\\n0      5931          46245  https://i.ytimg.com/vi/XpVt6Z1Gjjo/default.jpg   \n\n    date  \n0  13.09  ",
      "text/html": "<div>\n<style scoped>\n    .dataframe tbody tr th:only-of-type {\n        vertical-align: middle;\n    }\n\n    .dataframe tbody tr th {\n        vertical-align: top;\n    }\n\n    .dataframe thead th {\n        text-align: right;\n    }\n</style>\n<table border=\"1\" class=\"dataframe\">\n  <thead>\n    <tr style=\"text-align: right;\">\n      <th></th>\n      <th>video_id</th>\n      <th>title</th>\n      <th>channel_title</th>\n      <th>category_id</th>\n      <th>tags</th>\n      <th>views</th>\n      <th>likes</th>\n      <th>dislikes</th>\n      <th>comment_total</th>\n      <th>thumbnail_link</th>\n      <th>date</th>\n    </tr>\n  </thead>\n  <tbody>\n    <tr>\n      <th>0</th>\n      <td>XpVt6Z1Gjjo</td>\n      <td>1 YEAR OF VLOGGING -- HOW LOGAN PAUL CHANGED Y...</td>\n      <td>Logan Paul Vlogs</td>\n      <td>24</td>\n      <td>logan paul vlog|logan paul|logan|paul|olympics...</td>\n      <td>4394029</td>\n      <td>320053</td>\n      <td>5931</td>\n      <td>46245</td>\n      <td>https://i.ytimg.com/vi/XpVt6Z1Gjjo/default.jpg</td>\n      <td>13.09</td>\n    </tr>\n  </tbody>\n</table>\n</div>"
     },
     "execution_count": 147,
     "metadata": {},
     "output_type": "execute_result"
    }
   ],
   "source": [
    "data"
   ],
   "metadata": {
    "collapsed": false,
    "pycharm": {
     "name": "#%%\n"
    }
   }
  },
  {
   "cell_type": "code",
   "execution_count": 154,
   "outputs": [
    {
     "ename": "AttributeError",
     "evalue": "'list' object has no attribute 'split'",
     "output_type": "error",
     "traceback": [
      "\u001B[1;31m---------------------------------------------------------------------------\u001B[0m",
      "\u001B[1;31mAttributeError\u001B[0m                            Traceback (most recent call last)",
      "Input \u001B[1;32mIn [154]\u001B[0m, in \u001B[0;36m<cell line: 1>\u001B[1;34m()\u001B[0m\n\u001B[1;32m----> 1\u001B[0m data\u001B[38;5;241m.\u001B[39mtags \u001B[38;5;241m=\u001B[39m \u001B[43mdata\u001B[49m\u001B[38;5;241;43m.\u001B[39;49m\u001B[43mtags\u001B[49m\u001B[38;5;241;43m.\u001B[39;49m\u001B[43mapply\u001B[49m\u001B[43m(\u001B[49m\u001B[38;5;28;43;01mlambda\u001B[39;49;00m\u001B[43m \u001B[49m\u001B[43mx\u001B[49m\u001B[43m:\u001B[49m\u001B[43m \u001B[49m\u001B[43mx\u001B[49m\u001B[38;5;241;43m.\u001B[39;49m\u001B[43msplit\u001B[49m\u001B[43m(\u001B[49m\u001B[38;5;124;43m'\u001B[39;49m\u001B[38;5;124;43m|\u001B[39;49m\u001B[38;5;124;43m'\u001B[39;49m\u001B[43m)\u001B[49m\u001B[38;5;241;43m.\u001B[39;49m\u001B[43mtolist\u001B[49m\u001B[43m(\u001B[49m\u001B[43m)\u001B[49m\u001B[43m)\u001B[49m\n",
      "File \u001B[1;32m~\\Desktop\\myProjects_SQL\\mongoDBYoutube\\venvimg\\lib\\site-packages\\pandas\\core\\series.py:4433\u001B[0m, in \u001B[0;36mSeries.apply\u001B[1;34m(self, func, convert_dtype, args, **kwargs)\u001B[0m\n\u001B[0;32m   4323\u001B[0m \u001B[38;5;28;01mdef\u001B[39;00m \u001B[38;5;21mapply\u001B[39m(\n\u001B[0;32m   4324\u001B[0m     \u001B[38;5;28mself\u001B[39m,\n\u001B[0;32m   4325\u001B[0m     func: AggFuncType,\n\u001B[1;32m   (...)\u001B[0m\n\u001B[0;32m   4328\u001B[0m     \u001B[38;5;241m*\u001B[39m\u001B[38;5;241m*\u001B[39mkwargs,\n\u001B[0;32m   4329\u001B[0m ) \u001B[38;5;241m-\u001B[39m\u001B[38;5;241m>\u001B[39m DataFrame \u001B[38;5;241m|\u001B[39m Series:\n\u001B[0;32m   4330\u001B[0m     \u001B[38;5;124;03m\"\"\"\u001B[39;00m\n\u001B[0;32m   4331\u001B[0m \u001B[38;5;124;03m    Invoke function on values of Series.\u001B[39;00m\n\u001B[0;32m   4332\u001B[0m \n\u001B[1;32m   (...)\u001B[0m\n\u001B[0;32m   4431\u001B[0m \u001B[38;5;124;03m    dtype: float64\u001B[39;00m\n\u001B[0;32m   4432\u001B[0m \u001B[38;5;124;03m    \"\"\"\u001B[39;00m\n\u001B[1;32m-> 4433\u001B[0m     \u001B[38;5;28;01mreturn\u001B[39;00m \u001B[43mSeriesApply\u001B[49m\u001B[43m(\u001B[49m\u001B[38;5;28;43mself\u001B[39;49m\u001B[43m,\u001B[49m\u001B[43m \u001B[49m\u001B[43mfunc\u001B[49m\u001B[43m,\u001B[49m\u001B[43m \u001B[49m\u001B[43mconvert_dtype\u001B[49m\u001B[43m,\u001B[49m\u001B[43m \u001B[49m\u001B[43margs\u001B[49m\u001B[43m,\u001B[49m\u001B[43m \u001B[49m\u001B[43mkwargs\u001B[49m\u001B[43m)\u001B[49m\u001B[38;5;241;43m.\u001B[39;49m\u001B[43mapply\u001B[49m\u001B[43m(\u001B[49m\u001B[43m)\u001B[49m\n",
      "File \u001B[1;32m~\\Desktop\\myProjects_SQL\\mongoDBYoutube\\venvimg\\lib\\site-packages\\pandas\\core\\apply.py:1082\u001B[0m, in \u001B[0;36mSeriesApply.apply\u001B[1;34m(self)\u001B[0m\n\u001B[0;32m   1078\u001B[0m \u001B[38;5;28;01mif\u001B[39;00m \u001B[38;5;28misinstance\u001B[39m(\u001B[38;5;28mself\u001B[39m\u001B[38;5;241m.\u001B[39mf, \u001B[38;5;28mstr\u001B[39m):\n\u001B[0;32m   1079\u001B[0m     \u001B[38;5;66;03m# if we are a string, try to dispatch\u001B[39;00m\n\u001B[0;32m   1080\u001B[0m     \u001B[38;5;28;01mreturn\u001B[39;00m \u001B[38;5;28mself\u001B[39m\u001B[38;5;241m.\u001B[39mapply_str()\n\u001B[1;32m-> 1082\u001B[0m \u001B[38;5;28;01mreturn\u001B[39;00m \u001B[38;5;28;43mself\u001B[39;49m\u001B[38;5;241;43m.\u001B[39;49m\u001B[43mapply_standard\u001B[49m\u001B[43m(\u001B[49m\u001B[43m)\u001B[49m\n",
      "File \u001B[1;32m~\\Desktop\\myProjects_SQL\\mongoDBYoutube\\venvimg\\lib\\site-packages\\pandas\\core\\apply.py:1137\u001B[0m, in \u001B[0;36mSeriesApply.apply_standard\u001B[1;34m(self)\u001B[0m\n\u001B[0;32m   1131\u001B[0m         values \u001B[38;5;241m=\u001B[39m obj\u001B[38;5;241m.\u001B[39mastype(\u001B[38;5;28mobject\u001B[39m)\u001B[38;5;241m.\u001B[39m_values\n\u001B[0;32m   1132\u001B[0m         \u001B[38;5;66;03m# error: Argument 2 to \"map_infer\" has incompatible type\u001B[39;00m\n\u001B[0;32m   1133\u001B[0m         \u001B[38;5;66;03m# \"Union[Callable[..., Any], str, List[Union[Callable[..., Any], str]],\u001B[39;00m\n\u001B[0;32m   1134\u001B[0m         \u001B[38;5;66;03m# Dict[Hashable, Union[Union[Callable[..., Any], str],\u001B[39;00m\n\u001B[0;32m   1135\u001B[0m         \u001B[38;5;66;03m# List[Union[Callable[..., Any], str]]]]]\"; expected\u001B[39;00m\n\u001B[0;32m   1136\u001B[0m         \u001B[38;5;66;03m# \"Callable[[Any], Any]\"\u001B[39;00m\n\u001B[1;32m-> 1137\u001B[0m         mapped \u001B[38;5;241m=\u001B[39m \u001B[43mlib\u001B[49m\u001B[38;5;241;43m.\u001B[39;49m\u001B[43mmap_infer\u001B[49m\u001B[43m(\u001B[49m\n\u001B[0;32m   1138\u001B[0m \u001B[43m            \u001B[49m\u001B[43mvalues\u001B[49m\u001B[43m,\u001B[49m\n\u001B[0;32m   1139\u001B[0m \u001B[43m            \u001B[49m\u001B[43mf\u001B[49m\u001B[43m,\u001B[49m\u001B[43m  \u001B[49m\u001B[38;5;66;43;03m# type: ignore[arg-type]\u001B[39;49;00m\n\u001B[0;32m   1140\u001B[0m \u001B[43m            \u001B[49m\u001B[43mconvert\u001B[49m\u001B[38;5;241;43m=\u001B[39;49m\u001B[38;5;28;43mself\u001B[39;49m\u001B[38;5;241;43m.\u001B[39;49m\u001B[43mconvert_dtype\u001B[49m\u001B[43m,\u001B[49m\n\u001B[0;32m   1141\u001B[0m \u001B[43m        \u001B[49m\u001B[43m)\u001B[49m\n\u001B[0;32m   1143\u001B[0m \u001B[38;5;28;01mif\u001B[39;00m \u001B[38;5;28mlen\u001B[39m(mapped) \u001B[38;5;129;01mand\u001B[39;00m \u001B[38;5;28misinstance\u001B[39m(mapped[\u001B[38;5;241m0\u001B[39m], ABCSeries):\n\u001B[0;32m   1144\u001B[0m     \u001B[38;5;66;03m# GH#43986 Need to do list(mapped) in order to get treated as nested\u001B[39;00m\n\u001B[0;32m   1145\u001B[0m     \u001B[38;5;66;03m#  See also GH#25959 regarding EA support\u001B[39;00m\n\u001B[0;32m   1146\u001B[0m     \u001B[38;5;28;01mreturn\u001B[39;00m obj\u001B[38;5;241m.\u001B[39m_constructor_expanddim(\u001B[38;5;28mlist\u001B[39m(mapped), index\u001B[38;5;241m=\u001B[39mobj\u001B[38;5;241m.\u001B[39mindex)\n",
      "File \u001B[1;32m~\\Desktop\\myProjects_SQL\\mongoDBYoutube\\venvimg\\lib\\site-packages\\pandas\\_libs\\lib.pyx:2870\u001B[0m, in \u001B[0;36mpandas._libs.lib.map_infer\u001B[1;34m()\u001B[0m\n",
      "Input \u001B[1;32mIn [154]\u001B[0m, in \u001B[0;36m<lambda>\u001B[1;34m(x)\u001B[0m\n\u001B[1;32m----> 1\u001B[0m data\u001B[38;5;241m.\u001B[39mtags \u001B[38;5;241m=\u001B[39m data\u001B[38;5;241m.\u001B[39mtags\u001B[38;5;241m.\u001B[39mapply(\u001B[38;5;28;01mlambda\u001B[39;00m x: \u001B[43mx\u001B[49m\u001B[38;5;241;43m.\u001B[39;49m\u001B[43msplit\u001B[49m(\u001B[38;5;124m'\u001B[39m\u001B[38;5;124m|\u001B[39m\u001B[38;5;124m'\u001B[39m)\u001B[38;5;241m.\u001B[39mtolist())\n",
      "\u001B[1;31mAttributeError\u001B[0m: 'list' object has no attribute 'split'"
     ]
    }
   ],
   "source": [
    "data.tags = data.tags.apply(lambda x: x.split('|'))"
   ],
   "metadata": {
    "collapsed": false,
    "pycharm": {
     "name": "#%%\n"
    }
   }
  },
  {
   "cell_type": "code",
   "execution_count": 201,
   "outputs": [],
   "source": [
    "category = pd.read_json('trending_youtube_video_statistics_and_comments/US_category_id.json')"
   ],
   "metadata": {
    "collapsed": false,
    "pycharm": {
     "name": "#%%\n"
    }
   }
  },
  {
   "cell_type": "code",
   "execution_count": 205,
   "outputs": [
    {
     "data": {
      "text/plain": "0     {'kind': 'youtube#videoCategory', 'etag': '\"m2...\n1     {'kind': 'youtube#videoCategory', 'etag': '\"m2...\n2     {'kind': 'youtube#videoCategory', 'etag': '\"m2...\n3     {'kind': 'youtube#videoCategory', 'etag': '\"m2...\n4     {'kind': 'youtube#videoCategory', 'etag': '\"m2...\n5     {'kind': 'youtube#videoCategory', 'etag': '\"m2...\n6     {'kind': 'youtube#videoCategory', 'etag': '\"m2...\n7     {'kind': 'youtube#videoCategory', 'etag': '\"m2...\n8     {'kind': 'youtube#videoCategory', 'etag': '\"m2...\n9     {'kind': 'youtube#videoCategory', 'etag': '\"m2...\n10    {'kind': 'youtube#videoCategory', 'etag': '\"m2...\n11    {'kind': 'youtube#videoCategory', 'etag': '\"m2...\n12    {'kind': 'youtube#videoCategory', 'etag': '\"m2...\n13    {'kind': 'youtube#videoCategory', 'etag': '\"m2...\n14    {'kind': 'youtube#videoCategory', 'etag': '\"m2...\n15    {'kind': 'youtube#videoCategory', 'etag': '\"m2...\n16    {'kind': 'youtube#videoCategory', 'etag': '\"m2...\n17    {'kind': 'youtube#videoCategory', 'etag': '\"m2...\n18    {'kind': 'youtube#videoCategory', 'etag': '\"m2...\n19    {'kind': 'youtube#videoCategory', 'etag': '\"m2...\n20    {'kind': 'youtube#videoCategory', 'etag': '\"m2...\n21    {'kind': 'youtube#videoCategory', 'etag': '\"m2...\n22    {'kind': 'youtube#videoCategory', 'etag': '\"m2...\n23    {'kind': 'youtube#videoCategory', 'etag': '\"m2...\n24    {'kind': 'youtube#videoCategory', 'etag': '\"m2...\n25    {'kind': 'youtube#videoCategory', 'etag': '\"m2...\n26    {'kind': 'youtube#videoCategory', 'etag': '\"m2...\n27    {'kind': 'youtube#videoCategory', 'etag': '\"m2...\n28    {'kind': 'youtube#videoCategory', 'etag': '\"m2...\n29    {'kind': 'youtube#videoCategory', 'etag': '\"m2...\n30    {'kind': 'youtube#videoCategory', 'etag': '\"m2...\n31    {'kind': 'youtube#videoCategory', 'etag': '\"m2...\nName: items, dtype: object"
     },
     "execution_count": 205,
     "metadata": {},
     "output_type": "execute_result"
    }
   ],
   "source": [
    "category['items']"
   ],
   "metadata": {
    "collapsed": false,
    "pycharm": {
     "name": "#%%\n"
    }
   }
  },
  {
   "cell_type": "code",
   "execution_count": 203,
   "outputs": [
    {
     "ename": "AttributeError",
     "evalue": "__delitem__",
     "output_type": "error",
     "traceback": [
      "\u001B[1;31m---------------------------------------------------------------------------\u001B[0m",
      "\u001B[1;31mAttributeError\u001B[0m                            Traceback (most recent call last)",
      "Input \u001B[1;32mIn [203]\u001B[0m, in \u001B[0;36m<cell line: 1>\u001B[1;34m()\u001B[0m\n\u001B[1;32m----> 1\u001B[0m \u001B[38;5;28;01mdel\u001B[39;00m category[\u001B[38;5;124m'\u001B[39m\u001B[38;5;124mitems\u001B[39m\u001B[38;5;124m'\u001B[39m]\u001B[38;5;241m.\u001B[39miloc[\u001B[38;5;124m'\u001B[39m\u001B[38;5;124mkind\u001B[39m\u001B[38;5;124m'\u001B[39m]\n\u001B[0;32m      2\u001B[0m \u001B[38;5;28;01mdel\u001B[39;00m category[\u001B[38;5;124m'\u001B[39m\u001B[38;5;124mitems\u001B[39m\u001B[38;5;124m'\u001B[39m][\u001B[38;5;124m'\u001B[39m\u001B[38;5;124metag\u001B[39m\u001B[38;5;124m'\u001B[39m]\n",
      "\u001B[1;31mAttributeError\u001B[0m: __delitem__"
     ]
    }
   ],
   "source": [
    "del category['items']['kind']\n",
    "del category['items']['etag']"
   ],
   "metadata": {
    "collapsed": false,
    "pycharm": {
     "name": "#%%\n"
    }
   }
  },
  {
   "cell_type": "code",
   "execution_count": 191,
   "outputs": [],
   "source": [
    "del category['items'].iloc[0]['snippet']['channelId']\n",
    "del category['items'].iloc[0]['snippet']['assignable']"
   ],
   "metadata": {
    "collapsed": false,
    "pycharm": {
     "name": "#%%\n"
    }
   }
  },
  {
   "cell_type": "code",
   "execution_count": 192,
   "outputs": [
    {
     "data": {
      "text/plain": "{'id': '1', 'title': 'Film & Animation'}"
     },
     "execution_count": 192,
     "metadata": {},
     "output_type": "execute_result"
    }
   ],
   "source": [
    "category['items'].iloc[0].update({'title': category['items'].iloc[0]['snippet']['title']})\n",
    "del category['items'].iloc[0]['snippet']\n",
    "category['items'].iloc[0]"
   ],
   "metadata": {
    "collapsed": false,
    "pycharm": {
     "name": "#%%\n"
    }
   }
  },
  {
   "cell_type": "code",
   "execution_count": 193,
   "outputs": [
    {
     "data": {
      "text/plain": "           video_id                                       comment_text likes\n0       XpVt6Z1Gjjo                  Logan Paul it's yo big day ‼️‼️‼️     4\n1       XpVt6Z1Gjjo  I've been following you from the start of your...     3\n2       XpVt6Z1Gjjo                 Say hi to Kong and maverick for me     3\n3       XpVt6Z1Gjjo                                MY FAN . attendance     3\n4       XpVt6Z1Gjjo                                         trending 😉     3\n...             ...                                                ...   ...\n121660  XpVt6Z1Gjjo                                           Aw Logan     0\n121661  XpVt6Z1Gjjo      What kind of an asshole fakes color blindness     0\n121662  XpVt6Z1Gjjo                                        Oh hi mark.     2\n121663  XpVt6Z1Gjjo                                    O M G !😂💚💚💚🔥🔥🔥🔥     3\n121664  XpVt6Z1Gjjo  at10 30 on the vid he put the lock back on the...     0\n\n[800 rows x 3 columns]",
      "text/html": "<div>\n<style scoped>\n    .dataframe tbody tr th:only-of-type {\n        vertical-align: middle;\n    }\n\n    .dataframe tbody tr th {\n        vertical-align: top;\n    }\n\n    .dataframe thead th {\n        text-align: right;\n    }\n</style>\n<table border=\"1\" class=\"dataframe\">\n  <thead>\n    <tr style=\"text-align: right;\">\n      <th></th>\n      <th>video_id</th>\n      <th>comment_text</th>\n      <th>likes</th>\n    </tr>\n  </thead>\n  <tbody>\n    <tr>\n      <th>0</th>\n      <td>XpVt6Z1Gjjo</td>\n      <td>Logan Paul it's yo big day ‼️‼️‼️</td>\n      <td>4</td>\n    </tr>\n    <tr>\n      <th>1</th>\n      <td>XpVt6Z1Gjjo</td>\n      <td>I've been following you from the start of your...</td>\n      <td>3</td>\n    </tr>\n    <tr>\n      <th>2</th>\n      <td>XpVt6Z1Gjjo</td>\n      <td>Say hi to Kong and maverick for me</td>\n      <td>3</td>\n    </tr>\n    <tr>\n      <th>3</th>\n      <td>XpVt6Z1Gjjo</td>\n      <td>MY FAN . attendance</td>\n      <td>3</td>\n    </tr>\n    <tr>\n      <th>4</th>\n      <td>XpVt6Z1Gjjo</td>\n      <td>trending 😉</td>\n      <td>3</td>\n    </tr>\n    <tr>\n      <th>...</th>\n      <td>...</td>\n      <td>...</td>\n      <td>...</td>\n    </tr>\n    <tr>\n      <th>121660</th>\n      <td>XpVt6Z1Gjjo</td>\n      <td>Aw Logan</td>\n      <td>0</td>\n    </tr>\n    <tr>\n      <th>121661</th>\n      <td>XpVt6Z1Gjjo</td>\n      <td>What kind of an asshole fakes color blindness</td>\n      <td>0</td>\n    </tr>\n    <tr>\n      <th>121662</th>\n      <td>XpVt6Z1Gjjo</td>\n      <td>Oh hi mark.</td>\n      <td>2</td>\n    </tr>\n    <tr>\n      <th>121663</th>\n      <td>XpVt6Z1Gjjo</td>\n      <td>O M G !😂💚💚💚🔥🔥🔥🔥</td>\n      <td>3</td>\n    </tr>\n    <tr>\n      <th>121664</th>\n      <td>XpVt6Z1Gjjo</td>\n      <td>at10 30 on the vid he put the lock back on the...</td>\n      <td>0</td>\n    </tr>\n  </tbody>\n</table>\n<p>800 rows × 3 columns</p>\n</div>"
     },
     "execution_count": 193,
     "metadata": {},
     "output_type": "execute_result"
    }
   ],
   "source": [
    "data_comments[data_comments['video_id'] == 'XpVt6Z1Gjjo']"
   ],
   "metadata": {
    "collapsed": false,
    "pycharm": {
     "name": "#%%\n"
    }
   }
  },
  {
   "cell_type": "code",
   "execution_count": null,
   "outputs": [],
   "source": [],
   "metadata": {
    "collapsed": false,
    "pycharm": {
     "name": "#%%\n"
    }
   }
  },
  {
   "cell_type": "markdown",
   "source": [
    "# test managacsv.py"
   ],
   "metadata": {
    "collapsed": false
   }
  },
  {
   "cell_type": "code",
   "execution_count": 23,
   "outputs": [
    {
     "name": "stderr",
     "output_type": "stream",
     "text": [
      "C:\\Users\\39320\\Desktop\\myProjects_SQL\\mongoDBYoutube\\managecsv.py:7: FutureWarning: The error_bad_lines argument has been deprecated and will be removed in a future version. Use on_bad_lines in the future.\n",
      "\n",
      "\n",
      "  data_video = pd.read_csv(path_video, error_bad_lines=False)\n",
      "b'Skipping line 2401: expected 11 fields, saw 21\\nSkipping line 2800: expected 11 fields, saw 21\\nSkipping line 5297: expected 11 fields, saw 12\\nSkipping line 5299: expected 11 fields, saw 12\\nSkipping line 5300: expected 11 fields, saw 12\\nSkipping line 5301: expected 11 fields, saw 12\\n'\n",
      "C:\\Users\\39320\\Desktop\\myProjects_SQL\\mongoDBYoutube\\managecsv.py:8: FutureWarning: The error_bad_lines argument has been deprecated and will be removed in a future version. Use on_bad_lines in the future.\n",
      "\n",
      "\n",
      "  data_comments = pd.read_csv(path_comments, error_bad_lines=False)\n",
      "b'Skipping line 41589: expected 4 fields, saw 11\\nSkipping line 51628: expected 4 fields, saw 7\\nSkipping line 114465: expected 4 fields, saw 5\\n'\n",
      "b'Skipping line 142496: expected 4 fields, saw 8\\nSkipping line 189732: expected 4 fields, saw 6\\nSkipping line 245218: expected 4 fields, saw 7\\n'\n",
      "b'Skipping line 388430: expected 4 fields, saw 5\\n'\n",
      "C:\\Users\\39320\\Desktop\\myProjects_SQL\\mongoDBYoutube\\managecsv.py:8: DtypeWarning: Columns (2,3) have mixed types. Specify dtype option on import or set low_memory=False.\n",
      "  data_comments = pd.read_csv(path_comments, error_bad_lines=False)\n"
     ]
    }
   ],
   "source": [
    "import managecsv\n",
    "\n",
    "video, comments, cate = managecsv.load_data()\n",
    "comments = managecsv.clean_comments(comments)\n",
    "dict_category = managecsv.clean_category(cate.copy())"
   ],
   "metadata": {
    "collapsed": false,
    "pycharm": {
     "name": "#%%\n"
    }
   }
  },
  {
   "cell_type": "code",
   "execution_count": 2,
   "outputs": [
    {
     "data": {
      "text/plain": "Index(['video_id', 'title', 'channel_title', 'category_id', 'tags', 'views',\n       'likes', 'dislikes', 'comment_total', 'thumbnail_link', 'date'],\n      dtype='object')"
     },
     "execution_count": 2,
     "metadata": {},
     "output_type": "execute_result"
    }
   ],
   "source": [
    "video.columns"
   ],
   "metadata": {
    "collapsed": false,
    "pycharm": {
     "name": "#%%\n"
    }
   }
  },
  {
   "cell_type": "code",
   "execution_count": 3,
   "outputs": [
    {
     "data": {
      "text/plain": "{'1': 'Film & Animation',\n '2': 'Autos & Vehicles',\n '10': 'Music',\n '15': 'Pets & Animals',\n '17': 'Sports',\n '18': 'Short Movies',\n '19': 'Travel & Events',\n '20': 'Gaming',\n '21': 'Videoblogging',\n '22': 'People & Blogs',\n '23': 'Comedy',\n '24': 'Entertainment',\n '25': 'News & Politics',\n '26': 'Howto & Style',\n '27': 'Education',\n '28': 'Science & Technology',\n '29': 'Nonprofits & Activism',\n '30': 'Movies',\n '31': 'Anime/Animation',\n '32': 'Action/Adventure',\n '33': 'Classics',\n '34': 'Comedy',\n '35': 'Documentary',\n '36': 'Drama',\n '37': 'Family',\n '38': 'Foreign',\n '39': 'Horror',\n '40': 'Sci-Fi/Fantasy',\n '41': 'Thriller',\n '42': 'Shorts',\n '43': 'Shows',\n '44': 'Trailers'}"
     },
     "execution_count": 3,
     "metadata": {},
     "output_type": "execute_result"
    }
   ],
   "source": [
    "dict_category"
   ],
   "metadata": {
    "collapsed": false,
    "pycharm": {
     "name": "#%%\n"
    }
   }
  },
  {
   "cell_type": "code",
   "execution_count": 4,
   "outputs": [],
   "source": [
    "tags = managecsv.create_tags(video)"
   ],
   "metadata": {
    "collapsed": false,
    "pycharm": {
     "name": "#%%\n"
    }
   }
  },
  {
   "cell_type": "code",
   "execution_count": 5,
   "outputs": [
    {
     "name": "stderr",
     "output_type": "stream",
     "text": [
      "C:\\Users\\39320\\Desktop\\myProjects_SQL\\mongoDBYoutube\\managecsv.py:46: SettingWithCopyWarning: \n",
      "A value is trying to be set on a copy of a slice from a DataFrame\n",
      "\n",
      "See the caveats in the documentation: https://pandas.pydata.org/pandas-docs/stable/user_guide/indexing.html#returning-a-view-versus-a-copy\n",
      "  data_video.category_id[i] = dict_category.get(str(data_video.category_id[i]))\n"
     ]
    },
    {
     "data": {
      "text/plain": "0              Entertainment\n1       Science & Technology\n2             People & Blogs\n3       Science & Technology\n4                     Comedy\n                ...         \n7987               Education\n7988         News & Politics\n7989                   Music\n7990           Entertainment\n7991    Science & Technology\nName: category_id, Length: 7992, dtype: object"
     },
     "execution_count": 5,
     "metadata": {},
     "output_type": "execute_result"
    }
   ],
   "source": [
    "video = managecsv.num_to_category(video, dict_category)\n",
    "video.category_id"
   ],
   "metadata": {
    "collapsed": false,
    "pycharm": {
     "name": "#%%\n"
    }
   }
  },
  {
   "cell_type": "code",
   "execution_count": 6,
   "outputs": [
    {
     "data": {
      "text/plain": "           video_id                                       comment_text likes\n0       XpVt6Z1Gjjo                  Logan Paul it's yo big day ‼️‼️‼️     4\n1       XpVt6Z1Gjjo  I've been following you from the start of your...     3\n2       XpVt6Z1Gjjo                 Say hi to Kong and maverick for me     3\n3       XpVt6Z1Gjjo                                MY FAN . attendance     3\n4       XpVt6Z1Gjjo                                         trending 😉     3\n...             ...                                                ...   ...\n691395  EoejGgUNmVU                                             Лучшая     1\n691396  EoejGgUNmVU  qu'est ce que j'aimerais que tu viennes à Roan...     0\n691397  EoejGgUNmVU                          Ven a mexico! 😍 te amo LP     0\n691398  EoejGgUNmVU                                    Islığı yeter...     0\n691399  EoejGgUNmVU  Kocham tą piosenkę😍❤❤❤byłam zakochana po uszy ...     0\n\n[691400 rows x 3 columns]",
      "text/html": "<div>\n<style scoped>\n    .dataframe tbody tr th:only-of-type {\n        vertical-align: middle;\n    }\n\n    .dataframe tbody tr th {\n        vertical-align: top;\n    }\n\n    .dataframe thead th {\n        text-align: right;\n    }\n</style>\n<table border=\"1\" class=\"dataframe\">\n  <thead>\n    <tr style=\"text-align: right;\">\n      <th></th>\n      <th>video_id</th>\n      <th>comment_text</th>\n      <th>likes</th>\n    </tr>\n  </thead>\n  <tbody>\n    <tr>\n      <th>0</th>\n      <td>XpVt6Z1Gjjo</td>\n      <td>Logan Paul it's yo big day ‼️‼️‼️</td>\n      <td>4</td>\n    </tr>\n    <tr>\n      <th>1</th>\n      <td>XpVt6Z1Gjjo</td>\n      <td>I've been following you from the start of your...</td>\n      <td>3</td>\n    </tr>\n    <tr>\n      <th>2</th>\n      <td>XpVt6Z1Gjjo</td>\n      <td>Say hi to Kong and maverick for me</td>\n      <td>3</td>\n    </tr>\n    <tr>\n      <th>3</th>\n      <td>XpVt6Z1Gjjo</td>\n      <td>MY FAN . attendance</td>\n      <td>3</td>\n    </tr>\n    <tr>\n      <th>4</th>\n      <td>XpVt6Z1Gjjo</td>\n      <td>trending 😉</td>\n      <td>3</td>\n    </tr>\n    <tr>\n      <th>...</th>\n      <td>...</td>\n      <td>...</td>\n      <td>...</td>\n    </tr>\n    <tr>\n      <th>691395</th>\n      <td>EoejGgUNmVU</td>\n      <td>Лучшая</td>\n      <td>1</td>\n    </tr>\n    <tr>\n      <th>691396</th>\n      <td>EoejGgUNmVU</td>\n      <td>qu'est ce que j'aimerais que tu viennes à Roan...</td>\n      <td>0</td>\n    </tr>\n    <tr>\n      <th>691397</th>\n      <td>EoejGgUNmVU</td>\n      <td>Ven a mexico! 😍 te amo LP</td>\n      <td>0</td>\n    </tr>\n    <tr>\n      <th>691398</th>\n      <td>EoejGgUNmVU</td>\n      <td>Islığı yeter...</td>\n      <td>0</td>\n    </tr>\n    <tr>\n      <th>691399</th>\n      <td>EoejGgUNmVU</td>\n      <td>Kocham tą piosenkę😍❤❤❤byłam zakochana po uszy ...</td>\n      <td>0</td>\n    </tr>\n  </tbody>\n</table>\n<p>691400 rows × 3 columns</p>\n</div>"
     },
     "execution_count": 6,
     "metadata": {},
     "output_type": "execute_result"
    }
   ],
   "source": [
    "comments"
   ],
   "metadata": {
    "collapsed": false,
    "pycharm": {
     "name": "#%%\n"
    }
   }
  },
  {
   "cell_type": "code",
   "execution_count": 2,
   "outputs": [],
   "source": [
    "video = managecsv.create_analytics_col(video)"
   ],
   "metadata": {
    "collapsed": false,
    "pycharm": {
     "name": "#%%\n"
    }
   }
  },
  {
   "cell_type": "code",
   "execution_count": 5,
   "outputs": [
    {
     "data": {
      "text/plain": "Index(['video_id', 'title', 'channel_title', 'category_id', 'tags', 'views',\n       'likes', 'dislikes', 'comment_total', 'thumbnail_link', 'date',\n       'mean_like', 'mean_dislike', 'mean_view', 'mean_comments'],\n      dtype='object')"
     },
     "execution_count": 5,
     "metadata": {},
     "output_type": "execute_result"
    }
   ],
   "source": [
    "video.columns"
   ],
   "metadata": {
    "collapsed": false,
    "pycharm": {
     "name": "#%%\n"
    }
   }
  },
  {
   "cell_type": "code",
   "execution_count": 13,
   "outputs": [
    {
     "data": {
      "text/plain": "508648"
     },
     "execution_count": 13,
     "metadata": {},
     "output_type": "execute_result"
    }
   ],
   "source": [
    "round(video.likes[video['channel_title'] == 'PewDiePie'].mean())"
   ],
   "metadata": {
    "collapsed": false,
    "pycharm": {
     "name": "#%%\n"
    }
   }
  },
  {
   "cell_type": "code",
   "execution_count": 14,
   "outputs": [
    {
     "name": "stderr",
     "output_type": "stream",
     "text": [
      "C:\\Users\\39320\\AppData\\Local\\Temp\\ipykernel_15524\\436638933.py:3: SettingWithCopyWarning: \n",
      "A value is trying to be set on a copy of a slice from a DataFrame\n",
      "\n",
      "See the caveats in the documentation: https://pandas.pydata.org/pandas-docs/stable/user_guide/indexing.html#returning-a-view-versus-a-copy\n",
      "  video.mean_like[video['channel_title'] == author] = video.mean_like[\n"
     ]
    }
   ],
   "source": [
    "for author in video['channel_title']:\n",
    "    #a = round(video.likes[video['channel_title'] == author].mean())\n",
    "    video.mean_like[video['channel_title'] == author] = video.mean_like[\n",
    "        video['channel_title'] == author].fillna(round(video.likes[video['channel_title'] == author].mean()))"
   ],
   "metadata": {
    "collapsed": false,
    "pycharm": {
     "name": "#%%\n"
    }
   }
  },
  {
   "cell_type": "code",
   "execution_count": 39,
   "outputs": [
    {
     "data": {
      "text/plain": "         video_id                            title channel_title  category_id  \\\n2     cLdxuaxaQwc                      My Response     PewDiePie           22   \n210   cLdxuaxaQwc                      My Response     PewDiePie           22   \n437   cLdxuaxaQwc                      My Response     PewDiePie           22   \n700   cLdxuaxaQwc                      My Response     PewDiePie           22   \n930   cLdxuaxaQwc                      My Response     PewDiePie           22   \n1152  cLdxuaxaQwc                      My Response     PewDiePie           22   \n1393  cLdxuaxaQwc                      My Response     PewDiePie           22   \n7395  fAuUd1HiWe4  MY GIRLFRIEND PICKS MY OUTFITS!     PewDiePie           23   \n7610  fAuUd1HiWe4  MY GIRLFRIEND PICKS MY OUTFITS!     PewDiePie           23   \n7829  fAuUd1HiWe4  MY GIRLFRIEND PICKS MY OUTFITS!     PewDiePie           23   \n\n        tags    views   likes  dislikes  comment_total  \\\n2     [none]  5845909  576597     39774         170708   \n210   [none]  6997601  626155     46445         190979   \n437   [none]  7706359  659184     50584         199406   \n700   [none]  8002631  672775     52253         128771   \n930   [none]  8347038  687381     54352         130106   \n1152  [none]  8665083  700870     56487         134318   \n1393  [none]  8808424  706104     57280         135649   \n7395  [none]  1712576  127391      3052          18614   \n7610  [none]  2510236  159579      4527          22495   \n7829  [none]  2782307  170442      4991          23560   \n\n                                      thumbnail_link   date  \n2     https://i.ytimg.com/vi/cLdxuaxaQwc/default.jpg  13.09  \n210   https://i.ytimg.com/vi/cLdxuaxaQwc/default.jpg  14.09  \n437   https://i.ytimg.com/vi/cLdxuaxaQwc/default.jpg  15.09  \n700   https://i.ytimg.com/vi/cLdxuaxaQwc/default.jpg  16.09  \n930   https://i.ytimg.com/vi/cLdxuaxaQwc/default.jpg  17.09  \n1152  https://i.ytimg.com/vi/cLdxuaxaQwc/default.jpg  18.09  \n1393  https://i.ytimg.com/vi/cLdxuaxaQwc/default.jpg  19.09  \n7395  https://i.ytimg.com/vi/fAuUd1HiWe4/default.jpg  20.10  \n7610  https://i.ytimg.com/vi/fAuUd1HiWe4/default.jpg  21.10  \n7829  https://i.ytimg.com/vi/fAuUd1HiWe4/default.jpg  22.10  ",
      "text/html": "<div>\n<style scoped>\n    .dataframe tbody tr th:only-of-type {\n        vertical-align: middle;\n    }\n\n    .dataframe tbody tr th {\n        vertical-align: top;\n    }\n\n    .dataframe thead th {\n        text-align: right;\n    }\n</style>\n<table border=\"1\" class=\"dataframe\">\n  <thead>\n    <tr style=\"text-align: right;\">\n      <th></th>\n      <th>video_id</th>\n      <th>title</th>\n      <th>channel_title</th>\n      <th>category_id</th>\n      <th>tags</th>\n      <th>views</th>\n      <th>likes</th>\n      <th>dislikes</th>\n      <th>comment_total</th>\n      <th>thumbnail_link</th>\n      <th>date</th>\n    </tr>\n  </thead>\n  <tbody>\n    <tr>\n      <th>2</th>\n      <td>cLdxuaxaQwc</td>\n      <td>My Response</td>\n      <td>PewDiePie</td>\n      <td>22</td>\n      <td>[none]</td>\n      <td>5845909</td>\n      <td>576597</td>\n      <td>39774</td>\n      <td>170708</td>\n      <td>https://i.ytimg.com/vi/cLdxuaxaQwc/default.jpg</td>\n      <td>13.09</td>\n    </tr>\n    <tr>\n      <th>210</th>\n      <td>cLdxuaxaQwc</td>\n      <td>My Response</td>\n      <td>PewDiePie</td>\n      <td>22</td>\n      <td>[none]</td>\n      <td>6997601</td>\n      <td>626155</td>\n      <td>46445</td>\n      <td>190979</td>\n      <td>https://i.ytimg.com/vi/cLdxuaxaQwc/default.jpg</td>\n      <td>14.09</td>\n    </tr>\n    <tr>\n      <th>437</th>\n      <td>cLdxuaxaQwc</td>\n      <td>My Response</td>\n      <td>PewDiePie</td>\n      <td>22</td>\n      <td>[none]</td>\n      <td>7706359</td>\n      <td>659184</td>\n      <td>50584</td>\n      <td>199406</td>\n      <td>https://i.ytimg.com/vi/cLdxuaxaQwc/default.jpg</td>\n      <td>15.09</td>\n    </tr>\n    <tr>\n      <th>700</th>\n      <td>cLdxuaxaQwc</td>\n      <td>My Response</td>\n      <td>PewDiePie</td>\n      <td>22</td>\n      <td>[none]</td>\n      <td>8002631</td>\n      <td>672775</td>\n      <td>52253</td>\n      <td>128771</td>\n      <td>https://i.ytimg.com/vi/cLdxuaxaQwc/default.jpg</td>\n      <td>16.09</td>\n    </tr>\n    <tr>\n      <th>930</th>\n      <td>cLdxuaxaQwc</td>\n      <td>My Response</td>\n      <td>PewDiePie</td>\n      <td>22</td>\n      <td>[none]</td>\n      <td>8347038</td>\n      <td>687381</td>\n      <td>54352</td>\n      <td>130106</td>\n      <td>https://i.ytimg.com/vi/cLdxuaxaQwc/default.jpg</td>\n      <td>17.09</td>\n    </tr>\n    <tr>\n      <th>1152</th>\n      <td>cLdxuaxaQwc</td>\n      <td>My Response</td>\n      <td>PewDiePie</td>\n      <td>22</td>\n      <td>[none]</td>\n      <td>8665083</td>\n      <td>700870</td>\n      <td>56487</td>\n      <td>134318</td>\n      <td>https://i.ytimg.com/vi/cLdxuaxaQwc/default.jpg</td>\n      <td>18.09</td>\n    </tr>\n    <tr>\n      <th>1393</th>\n      <td>cLdxuaxaQwc</td>\n      <td>My Response</td>\n      <td>PewDiePie</td>\n      <td>22</td>\n      <td>[none]</td>\n      <td>8808424</td>\n      <td>706104</td>\n      <td>57280</td>\n      <td>135649</td>\n      <td>https://i.ytimg.com/vi/cLdxuaxaQwc/default.jpg</td>\n      <td>19.09</td>\n    </tr>\n    <tr>\n      <th>7395</th>\n      <td>fAuUd1HiWe4</td>\n      <td>MY GIRLFRIEND PICKS MY OUTFITS!</td>\n      <td>PewDiePie</td>\n      <td>23</td>\n      <td>[none]</td>\n      <td>1712576</td>\n      <td>127391</td>\n      <td>3052</td>\n      <td>18614</td>\n      <td>https://i.ytimg.com/vi/fAuUd1HiWe4/default.jpg</td>\n      <td>20.10</td>\n    </tr>\n    <tr>\n      <th>7610</th>\n      <td>fAuUd1HiWe4</td>\n      <td>MY GIRLFRIEND PICKS MY OUTFITS!</td>\n      <td>PewDiePie</td>\n      <td>23</td>\n      <td>[none]</td>\n      <td>2510236</td>\n      <td>159579</td>\n      <td>4527</td>\n      <td>22495</td>\n      <td>https://i.ytimg.com/vi/fAuUd1HiWe4/default.jpg</td>\n      <td>21.10</td>\n    </tr>\n    <tr>\n      <th>7829</th>\n      <td>fAuUd1HiWe4</td>\n      <td>MY GIRLFRIEND PICKS MY OUTFITS!</td>\n      <td>PewDiePie</td>\n      <td>23</td>\n      <td>[none]</td>\n      <td>2782307</td>\n      <td>170442</td>\n      <td>4991</td>\n      <td>23560</td>\n      <td>https://i.ytimg.com/vi/fAuUd1HiWe4/default.jpg</td>\n      <td>22.10</td>\n    </tr>\n  </tbody>\n</table>\n</div>"
     },
     "execution_count": 39,
     "metadata": {},
     "output_type": "execute_result"
    }
   ],
   "source": [
    "video[video['channel_title']== 'PewDiePie']"
   ],
   "metadata": {
    "collapsed": false,
    "pycharm": {
     "name": "#%%\n"
    }
   }
  },
  {
   "cell_type": "code",
   "execution_count": 41,
   "outputs": [
    {
     "data": {
      "text/plain": "         video_id                            title channel_title  category_id  \\\n1393  cLdxuaxaQwc                      My Response     PewDiePie           22   \n7829  fAuUd1HiWe4  MY GIRLFRIEND PICKS MY OUTFITS!     PewDiePie           23   \n\n        tags    views   likes  dislikes  comment_total  \\\n1393  [none]  8808424  706104     57280         135649   \n7829  [none]  2782307  170442      4991          23560   \n\n                                      thumbnail_link   date  \n1393  https://i.ytimg.com/vi/cLdxuaxaQwc/default.jpg  19.09  \n7829  https://i.ytimg.com/vi/fAuUd1HiWe4/default.jpg  22.10  ",
      "text/html": "<div>\n<style scoped>\n    .dataframe tbody tr th:only-of-type {\n        vertical-align: middle;\n    }\n\n    .dataframe tbody tr th {\n        vertical-align: top;\n    }\n\n    .dataframe thead th {\n        text-align: right;\n    }\n</style>\n<table border=\"1\" class=\"dataframe\">\n  <thead>\n    <tr style=\"text-align: right;\">\n      <th></th>\n      <th>video_id</th>\n      <th>title</th>\n      <th>channel_title</th>\n      <th>category_id</th>\n      <th>tags</th>\n      <th>views</th>\n      <th>likes</th>\n      <th>dislikes</th>\n      <th>comment_total</th>\n      <th>thumbnail_link</th>\n      <th>date</th>\n    </tr>\n  </thead>\n  <tbody>\n    <tr>\n      <th>1393</th>\n      <td>cLdxuaxaQwc</td>\n      <td>My Response</td>\n      <td>PewDiePie</td>\n      <td>22</td>\n      <td>[none]</td>\n      <td>8808424</td>\n      <td>706104</td>\n      <td>57280</td>\n      <td>135649</td>\n      <td>https://i.ytimg.com/vi/cLdxuaxaQwc/default.jpg</td>\n      <td>19.09</td>\n    </tr>\n    <tr>\n      <th>7829</th>\n      <td>fAuUd1HiWe4</td>\n      <td>MY GIRLFRIEND PICKS MY OUTFITS!</td>\n      <td>PewDiePie</td>\n      <td>23</td>\n      <td>[none]</td>\n      <td>2782307</td>\n      <td>170442</td>\n      <td>4991</td>\n      <td>23560</td>\n      <td>https://i.ytimg.com/vi/fAuUd1HiWe4/default.jpg</td>\n      <td>22.10</td>\n    </tr>\n  </tbody>\n</table>\n</div>"
     },
     "execution_count": 41,
     "metadata": {},
     "output_type": "execute_result"
    }
   ],
   "source": [
    "video[video['channel_title']== 'PewDiePie'].drop_duplicates(subset=['video_id'], keep='last')"
   ],
   "metadata": {
    "collapsed": false,
    "pycharm": {
     "name": "#%%\n"
    }
   }
  }
 ],
 "metadata": {
  "kernelspec": {
   "display_name": "Python 3",
   "language": "python",
   "name": "python3"
  },
  "language_info": {
   "codemirror_mode": {
    "name": "ipython",
    "version": 2
   },
   "file_extension": ".py",
   "mimetype": "text/x-python",
   "name": "python",
   "nbconvert_exporter": "python",
   "pygments_lexer": "ipython2",
   "version": "2.7.6"
  }
 },
 "nbformat": 4,
 "nbformat_minor": 0
}